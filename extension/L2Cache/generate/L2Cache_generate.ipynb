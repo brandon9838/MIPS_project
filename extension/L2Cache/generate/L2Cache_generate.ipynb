{
 "cells": [
  {
   "cell_type": "code",
   "execution_count": 1,
   "metadata": {
    "collapsed": true
   },
   "outputs": [],
   "source": [
    "import sys"
   ]
  },
  {
   "cell_type": "code",
   "execution_count": 2,
   "metadata": {
    "collapsed": true
   },
   "outputs": [],
   "source": [
    "def fibR(n):\n",
    "    assert(n>0)\n",
    "    if n==1 or n==2:\n",
    "        return 1\n",
    "    return fibR(n-1)+fibR(n-2)\n",
    "\n",
    "def param_p1p2p3(nb):\n",
    "    m1 = nb-2\n",
    "    m2 = 4*((nb-1)+(nb-2)*3)\n",
    "    m3 = 4*(nb+(nb-2)*3)\n",
    "    return m1, m2, m3"
   ]
  },
  {
   "cell_type": "markdown",
   "metadata": {},
   "source": [
    "### Fibonacci\n",
    "    I_mem_L2Cache\n",
    "        number = len(fib_list)+1 (0)\n",
    "        transform\n",
    "        //addi $3 $0 14   / addi r3, r0, 0x000E, r3 = 16-2\n",
    "        //addi $7 $0 00E4 / addi r7, r0, 0x00E4, r7 = 4*[(number-1)+(number-2)*3]\n",
    "        //addi $7 $0 00E0 / addi r7, r0, 0x00E0, r7 = 4*[(number-2)+(number-2)*3]   \n",
    "        to\n",
    "        //addi $3 $0 m1   \n",
    "        //addi $7 $0 m2 \n",
    "        //addi $7 $0 m3 \n",
    "     TestBed_L2Cache\n",
    "        `define\tCheckNum\t6'd33       \n",
    "        \n",
    "            6'd0 :\tanswer = 32'd0;\n",
    "            6'd1 :\tanswer = 32'd1;\n",
    "            6'd2 :\tanswer = 32'd1;\n",
    "            6'd3 :\tanswer = 32'd2;\n",
    "            6'd4 :\tanswer = 32'd3;\n",
    "            6'd5 :\tanswer = 32'd5;\n",
    "            6'd6 :\tanswer = 32'd8;\n",
    "            6'd7 :\tanswer = 32'd13;\n",
    "            6'd8 :\tanswer = 32'd21;\n",
    "            6'd9 :\tanswer = 32'd34;\n",
    "            6'd10:\tanswer = 32'd55;\n",
    "            6'd11:\tanswer = 32'd89;\n",
    "            6'd12:\tanswer = 32'd144;\n",
    "            6'd13:\tanswer = 32'd233;\n",
    "            6'd14:\tanswer = 32'd377;\n",
    "            6'd15:\tanswer = 32'd610;\n",
    "            6'd16:\tanswer = 32'd610;\n",
    "            6'd17:\tanswer = 32'd377;\n",
    "            6'd18:\tanswer = 32'd233;\n",
    "            6'd19:\tanswer = 32'd144;\n",
    "            6'd20:\tanswer = 32'd89;\n",
    "            6'd21:\tanswer = 32'd55;\n",
    "            6'd22:\tanswer = 32'd34;\n",
    "            6'd23:\tanswer = 32'd21;\n",
    "            6'd24:\tanswer = 32'd13;\n",
    "            6'd25:\tanswer = 32'd8;\n",
    "            6'd26:\tanswer = 32'd5;\n",
    "            6'd27:\tanswer = 32'd3;\n",
    "            6'd28:\tanswer = 32'd2;\n",
    "            6'd29:\tanswer = 32'd1;\n",
    "            6'd30:\tanswer = 32'd1;\n",
    "            6'd31:\tanswer = 32'd0;\n",
    "            6'd32:\tanswer = `EndSymbol;          "
   ]
  },
  {
   "cell_type": "code",
   "execution_count": 3,
   "metadata": {
    "collapsed": false
   },
   "outputs": [],
   "source": [
    "# nb = int(sys.argv[1])\n",
    "\n",
    "nb = 20\n",
    "# nb = 16\n",
    "m1, m2,  m3 = param_p1p2p3(nb)\n",
    "\n",
    "fib_list = [0]+[fibR(i) for i in range(1,nb)]\n",
    "### for solving issue: sequence lenghth extension not enough \n",
    "gen_list_p1p2p3 = [0,1]\n",
    "for v in fib_list[2:]:\n",
    "    gen_list_p1p2p3 += [v, v+1, v+2, v+3]\n",
    "    \n",
    "seq_sort = sorted(gen_list_p1p2p3)\n",
    "seq_sort = seq_sort.copy()\n",
    "seq_sort.reverse()\n",
    "\n",
    "write_list = gen_list_p1p2p3 + seq_sort \n",
    "\n",
    "CheckNum = len(write_list) + 1 #`EndSymbol"
   ]
  },
  {
   "cell_type": "code",
   "execution_count": 4,
   "metadata": {
    "collapsed": false
   },
   "outputs": [],
   "source": [
    "TestBed_L2Cache_file = open('TestBed_L2Cache.v','w')\n",
    "\n",
    "\n",
    "with open(\"TestBed_L2Cache_ref.v\", \"r\") as f:\n",
    "    for line in f:\n",
    "        if 'modify' in line:\n",
    "            line = line.replace(\"117\", format(CheckNum, 'd'))\n",
    "        \n",
    "        if 'modify2' in line: \n",
    "            line = line.replace(\"xxx\", format(fib_list[-1], 'd'))\n",
    "            TestBed_L2Cache_file.write(line)\n",
    "            break\n",
    "        TestBed_L2Cache_file.write(line)\n",
    "\n",
    "for i, ans in enumerate(write_list):\n",
    "    TestBed_L2Cache_file.write(\"\\t\\t10'd%d :answer = 32'd%d;\\n\" %(i,ans))\n",
    "    \n",
    "TestBed_L2Cache_file.write(\"\\t\\t10'd%d :answer = `EndSymbol;\\n\\t\\tendcase\\n\\tend\\n\\nendmodule\" %(CheckNum-1))\n",
    "TestBed_L2Cache_file.close()"
   ]
  },
  {
   "cell_type": "code",
   "execution_count": 5,
   "metadata": {
    "collapsed": false
   },
   "outputs": [],
   "source": [
    "I_mem_L2Cache_file = open('I_mem_L2Cache','w')\n",
    "\n",
    "with open(\"I_mem_L2Cache_ref\", \"r\") as f:\n",
    "    for line in f:\n",
    "        if 'modify1' in line:\n",
    "            # annotation\n",
    "            line = line.replace(\"0x000e\",             format(m1, 'x').zfill(4))  # I-type operand immediate 16 bit\n",
    "            line = line.replace(\"610\",                format(fib_list[-1], 'd'))\n",
    "            line = line.replace(\"16\",                 format(nb, 'd'))\n",
    "            line = line.replace(\"14\",                 format(m1, 'd')) \n",
    "\n",
    "            # instruction\n",
    "            line = line.replace(\"00000_00000_001110\", format(m1, 'b').zfill(16)) # I-type operand immediate 16 bit\n",
    "        elif 'modify2' in line:\n",
    "            # annotation\n",
    "            line = line.replace(\"E4\",              format(m2, 'x').zfill(4))  # I-type operand immediate 16 bit\n",
    "            line = line.replace(\"228\",                 format(m2, 'd')) \n",
    "            \n",
    "            # instruction\n",
    "            line = line.replace(\"00000_00011100100\", format(m2, 'b').zfill(16)) # I-type operand immediate 16 bit\n",
    "        elif 'modify3' in line:\n",
    "            # annotation\n",
    "            line = line.replace(\"E8\",             format(m3, 'x').zfill(4))  # I-type operand immediate 16 bit\n",
    "            line = line.replace(\"232\",                 format(m3, 'd')) \n",
    "            \n",
    "            # instruction\n",
    "            line = line.replace(\"0000000011101000\",   format(m3, 'b').zfill(16)) # I-type operand immediate 16 bit\n",
    "        \n",
    "        I_mem_L2Cache_file.write(line)\n",
    "I_mem_L2Cache_file.close()"
   ]
  }
 ],
 "metadata": {
  "kernelspec": {
   "display_name": "Python 3",
   "language": "python",
   "name": "python3"
  },
  "language_info": {
   "codemirror_mode": {
    "name": "ipython",
    "version": 3
   },
   "file_extension": ".py",
   "mimetype": "text/x-python",
   "name": "python",
   "nbconvert_exporter": "python",
   "pygments_lexer": "ipython3",
   "version": "3.6.0"
  }
 },
 "nbformat": 4,
 "nbformat_minor": 2
}
