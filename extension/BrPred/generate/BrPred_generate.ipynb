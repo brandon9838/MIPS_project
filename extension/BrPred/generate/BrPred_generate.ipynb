{
 "cells": [
  {
   "cell_type": "code",
   "execution_count": 38,
   "metadata": {
    "collapsed": true
   },
   "outputs": [],
   "source": [
    "import sys\n",
    "\n",
    "nb_notBEQ   = sys.argv[1]\n",
    "nb_interBEQ = sys.argv[2]\n",
    "nb_BEQ      = sys.argv[3]\n",
    "# nb_notBEQ   = 1\n",
    "# nb_interBEQ = 2\n",
    "# nb_BEQ      = 3"
   ]
  },
  {
   "cell_type": "code",
   "execution_count": 55,
   "metadata": {},
   "outputs": [],
   "source": [
    "I_mem_BrPred_file = open('I_mem_BrPred','w')\n",
    "\n",
    "with open(\"I_mem_BrPredref\", \"r\") as f:\n",
    "    for line in f:\n",
    "        if 'modify1' in line:\n",
    "            # annotation\n",
    "            line = line.replace(\" 10 \",               '{:^5}'.format(nb_notBEQ, 'd')) \n",
    "            # instruction\n",
    "            line = line.replace(\"0000000000001010\",   format(nb_notBEQ, 'b').zfill(16)) # I-type operand immediate 16 bit\n",
    "        elif 'modify2' in line:\n",
    "            # annotation\n",
    "            line = line.replace(\" 20 \",               '{:^5}'.format(nb_interBEQ, 'd')) \n",
    "            # instruction\n",
    "            line = line.replace(\"0000000000010100\",   format(nb_interBEQ, 'b').zfill(16)) # I-type operand immediate 16 bit\n",
    "        elif 'modify3' in line:\n",
    "            # annotation\n",
    "            line = line.replace(\" 30 \",               '{:^5}'.format(nb_BEQ, 'd')) \n",
    "            I_mem_BrPred_file.write(line)\n",
    "            break\n",
    "            \n",
    "        I_mem_BrPred_file.write(line)\n",
    "        \n",
    "for i in range(nb_BEQ):\n",
    "    I_mem_BrPred_file.write(\"000000_00111_00011_00111_00000_100000      //add  r7,r7,r3\\n000100_00001_00010_0000000000000001        //beq  r1,r2, 0x0001\\n000010_00000000000000000000001110          //j    14\\n\")\n",
    "\n",
    "I_mem_BrPred_file.write(\"000000_00100_00010_00110_00000_100000      //add  r6,r2, r4\\n000000_00111_00110_00110_00000_100000      //add  r6,r6, r7\\n101011_00000_00110_0000000000000000        //sw   r6,r0, 0x0000 ; a+b+c = %d\\n\" %(nb_notBEQ+nb_interBEQ+nb_BEQ))\n",
    "I_mem_BrPred_file.close()"
   ]
  },
  {
   "cell_type": "code",
   "execution_count": 37,
   "metadata": {},
   "outputs": [],
   "source": [
    "TestBed_BrPred_file = open('TestBed_BrPred.v','w')\n",
    "\n",
    "with open(\"TestBed_BrPredref.v\", \"r\") as f:\n",
    "    for line in f:\n",
    "        if '`define\tanswer' in line:\n",
    "            line = line.replace(\"60\",format(nb_notBEQ+nb_interBEQ+nb_BEQ, 'd')) \n",
    "        TestBed_BrPred_file.write(line)\n",
    "TestBed_BrPred_file.close()"
   ]
  },
  {
   "cell_type": "code",
   "execution_count": null,
   "metadata": {
    "collapsed": true
   },
   "outputs": [],
   "source": []
  }
 ],
 "metadata": {
  "kernelspec": {
   "display_name": "Python 3",
   "language": "python",
   "name": "python3"
  },
  "language_info": {
   "codemirror_mode": {
    "name": "ipython",
    "version": 3
   },
   "file_extension": ".py",
   "mimetype": "text/x-python",
   "name": "python",
   "nbconvert_exporter": "python",
   "pygments_lexer": "ipython3",
   "version": "3.5.3"
  }
 },
 "nbformat": 4,
 "nbformat_minor": 2
}
